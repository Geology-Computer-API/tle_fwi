{
 "cells": [
  {
   "cell_type": "code",
   "execution_count": 1,
   "metadata": {
    "collapsed": true
   },
   "outputs": [],
   "source": [
    "using Seismic, PyPlot # required deps"
   ]
  },
  {
   "cell_type": "code",
   "execution_count": 2,
   "metadata": {
    "collapsed": false
   },
   "outputs": [
    {
     "data": {
      "image/png": "[encoded data removed]",
      "text/plain": [
       "PyPlot.Figure(PyObject <matplotlib.figure.Figure object at 0x7f0c8999e128>)"
      ]
     },
     "metadata": {},
     "output_type": "display_data"
    },
    {
     "data": {
      "text/plain": [
       "PyObject <matplotlib.image.AxesImage object at 0x7f0c89b0c710>"
      ]
     },
     "execution_count": 2,
     "metadata": {},
     "output_type": "execute_result"
    }
   ],
   "source": [
    "# First let's view an inline out of the \"real\" seismic data:\n",
    "\n",
    "seismic, seismic_h = SeisRead(\"dat/image\"); # load data\n",
    "SeisPlot(seismic[:,:,1], cmap = \"seismic\")  # plot data"
   ]
  },
  {
   "cell_type": "code",
   "execution_count": 3,
   "metadata": {
    "collapsed": false
   },
   "outputs": [
    {
     "data": {
      "image/png": "[encoded data removed]",
      "text/plain": [
       "PyPlot.Figure(PyObject <matplotlib.figure.Figure object at 0x7f0c89b26320>)"
      ]
     },
     "metadata": {},
     "output_type": "display_data"
    },
    {
     "data": {
      "text/plain": [
       "PyObject <matplotlib.image.AxesImage object at 0x7f0c892efd30>"
      ]
     },
     "execution_count": 3,
     "metadata": {},
     "output_type": "execute_result"
    }
   ],
   "source": [
    "# Then let's assume we've picked a velocity model\n",
    "# and converted it to interval velocities.\n",
    "# We'll assume there are interpretive errors in\n",
    "# the model.\n",
    "\n",
    "# An inline from our picked vel model looks like this:\n",
    "\n",
    "vel_initial, vel_h = SeisRead(\"dat/vel_incorrect\"); # read data\n",
    "SeisPlot(vel_initial[:,:,1], cmap = \"magma\")        # plot data"
   ]
  },
  {
   "cell_type": "code",
   "execution_count": 4,
   "metadata": {
    "collapsed": false
   },
   "outputs": [
    {
     "name": "stderr",
     "output_type": "stream",
     "text": [
      "grep: ../dat/vel_correct: No such file or directory\n"
     ]
    },
    {
     "ename": "LoadError",
     "evalue": "LoadError: LoadError: failed process: Process(`grep in= ../dat/vel_correct`, ProcessExited(2)) [2]\nwhile loading /home/gram/tle_fwi/mod/modeler.jl, in expression starting on line 11\nwhile loading In[4], in expression starting on line 5",
     "output_type": "error",
     "traceback": [
      "LoadError: LoadError: failed process: Process(`grep in= ../dat/vel_correct`, ProcessExited(2)) [2]\nwhile loading /home/gram/tle_fwi/mod/modeler.jl, in expression starting on line 11\nwhile loading In[4], in expression starting on line 5",
      "",
      " in pipeline_error at process.jl:568",
      " in readbytes at process.jl:515",
      " in readall at process.jl:520",
      " in SeisRead at /home/gram/.julia/v0.4/Seismic/src/Utils/SeisRead.jl:33",
      " in include at ./boot.jl:261",
      " in include_from_node1 at ./loading.jl:320"
     ]
    }
   ],
   "source": [
    "# Obviously, this model is incorrect, or there would be three\n",
    "# seismic events in the section. Let's forward model this \n",
    "# incorrect vel model and view the output modeled seismic:\n",
    "\n",
    "include(\"mod/modeler.jl\");                                   # model seismic from our bad vels\n",
    "seis_incorrect, seismic_h = SeisRead(\"dat/image_incorrect\"); # load data\n",
    "SeisPlot(seis_incorrect[:,:,1], cmap = \"seismic\")            # plot data"
   ]
  },
  {
   "cell_type": "code",
   "execution_count": 5,
   "metadata": {
    "collapsed": false
   },
   "outputs": [
    {
     "name": "stdout",
     "output_type": "stream",
     "text": [
      "\n",
      "3D Poststack full waveform inversion algorithm\n",
      "\n",
      "\n",
      "In this program FWI updates a velocity model one sample at a time,\n",
      "one trace at a time. The velocity sample is perturbed positively,\n",
      "negatively, and not at all. Then the algorithm models new seismic\n",
      "from all three of the perturbed velocity models, and compares them to\n",
      "the input (real) seismic data. Whichever perturbation generates the\n",
      "least amount of error is chosen to be correct, and input into the \n",
      "updated velocity model.\n",
      "This algorithm accepts six inputs in the following order:\n",
      "\n",
      "\t1. Initial velocity model\n",
      "\t2. Poststack 3D seismic volume in Seis format\n",
      "\t3. One dimensional wavelet in Seis format\n",
      "\t4. Output file name (updated vel model in Seis format)\n",
      "\t5. Velocity update increment percentage in decimal\n",
      "\t6. Maximum number of velocity update iterations\n",
      "\t7. Verbosity (see note)\n",
      "\n",
      "If verbose is 0 operation is silent. If verbose is 1 updates will\n",
      "print to stdout. If verbose is 2 debugging info will print to stdout.\n",
      "Here is an example to get you started on the syntax:\n",
      "\n",
      "\n",
      "fwi(\"../dat/vel_incorrect\", \"../dat/image\", \"../dat/wav\", \"../dat/updated_vel\", .1, 5, 0)\n",
      "\n",
      "\n",
      "Please note this algorithm is written for clarity not speed, so\n",
      "use forgivingly small velocity models.\n",
      "\n"
     ]
    },
    {
     "name": "stderr",
     "output_type": "stream",
     "text": [
      "grep: ../dat/vel_incorrect: No such file or directory\n"
     ]
    },
    {
     "ename": "LoadError",
     "evalue": "LoadError: failed process: Process(`grep in= ../dat/vel_incorrect`, ProcessExited(2)) [2]\nwhile loading In[5], in expression starting on line 12",
     "output_type": "error",
     "traceback": [
      "LoadError: failed process: Process(`grep in= ../dat/vel_incorrect`, ProcessExited(2)) [2]\nwhile loading In[5], in expression starting on line 12",
      "",
      " in pipeline_error at process.jl:568",
      " in readbytes at process.jl:515",
      " in readall at process.jl:520",
      " in SeisRead at /home/gram/.julia/v0.4/Seismic/src/Utils/SeisRead.jl:33",
      " in fwi at /home/gram/tle_fwi/fwi/fwi.jl:37"
     ]
    }
   ],
   "source": [
    "# Therefore, if we tried to migrate with our bad velocity \n",
    "# model, we'd get a kinematically inaccurate result. Hence\n",
    "# we need to improve our velocity model somehow. So let's\n",
    "# use full waveform inversion.\n",
    "\n",
    "# Let's input our poorly picked velocity model and the \n",
    "# seismic data into an FWI algorithm and take a look\n",
    "# at the updated velocity model to see if there was any\n",
    "# improvement:\n",
    "\n",
    "include(\"fwi/fwi.jl\")                            # prep deps\n",
    "fwi(\"dat/vel_incorrect\", \"dat/image\", \n",
    "\"dat/wav\", \"dat/updated_vel\", .03, 5, 0);     # FWI algorithm\n",
    "\n",
    "vel_updated, vel_h = SeisRead(\"dat/updated_vel\") # load data\n",
    "SeisPlot(vel_updated[:,:,1], cmap = \"magma\")        # plot data"
   ]
  },
  {
   "cell_type": "code",
   "execution_count": 6,
   "metadata": {
    "collapsed": false
   },
   "outputs": [
    {
     "data": {
      "image/png": "[encoded data removed]",
      "text/plain": [
       "PyPlot.Figure(PyObject <matplotlib.figure.Figure object at 0x7f0c892c9be0>)"
      ]
     },
     "metadata": {},
     "output_type": "display_data"
    },
    {
     "data": {
      "text/plain": [
       "PyObject <matplotlib.image.AxesImage object at 0x7f0c84b77710>"
      ]
     },
     "execution_count": 6,
     "metadata": {},
     "output_type": "execute_result"
    }
   ],
   "source": [
    "# We can see here that the vel model has been improved considerably\n",
    "# by full waveform inversion. For comparison, let's view\n",
    "# the insitu velocities.\n",
    "# (This is the model the author used to create the \"real\" seismic)\n",
    "\n",
    "\n",
    "vel_true, vel_h = SeisRead(\"dat/vel_correct\"); # read data\n",
    "SeisPlot(vel_true[:,:,1], cmap = \"magma\")         # plot data"
   ]
  },
  {
   "cell_type": "code",
   "execution_count": 7,
   "metadata": {
    "collapsed": false
   },
   "outputs": [],
   "source": [
    "# As you can see, the FWI updated vel model is very close\n",
    "# to the true velocities. In this case it's actually within 3%."
   ]
  },
  {
   "cell_type": "code",
   "execution_count": null,
   "metadata": {
    "collapsed": true
   },
   "outputs": [],
   "source": []
  }
 ],
 "metadata": {
  "kernelspec": {
   "display_name": "Julia 0.4.5",
   "language": "julia",
   "name": "julia-0.4"
  },
  "language_info": {
   "file_extension": ".jl",
   "mimetype": "application/julia",
   "name": "julia",
   "version": "0.4.5"
  }
 },
 "nbformat": 4,
 "nbformat_minor": 0
}
