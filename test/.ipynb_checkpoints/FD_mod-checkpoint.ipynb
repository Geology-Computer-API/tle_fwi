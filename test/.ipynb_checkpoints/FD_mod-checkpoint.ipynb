{
 "cells": [
  {
   "cell_type": "code",
   "execution_count": 45,
   "metadata": {
    "collapsed": true
   },
   "outputs": [],
   "source": [
    "using Seismic, PyPlot"
   ]
  },
  {
   "cell_type": "code",
   "execution_count": 61,
   "metadata": {
    "collapsed": false
   },
   "outputs": [
    {
     "name": "stderr",
     "output_type": "stream",
     "text": [
      "grep: vel: No such file or directory\n"
     ]
    },
    {
     "ename": "LoadError",
     "evalue": "LoadError: failed process: Process(`grep in= vel`, ProcessExited(2)) [2]\nwhile loading In[61], in expression starting on line 12",
     "output_type": "error",
     "traceback": [
      "LoadError: failed process: Process(`grep in= vel`, ProcessExited(2)) [2]\nwhile loading In[61], in expression starting on line 12",
      "",
      " in pipeline_error at process.jl:568",
      " in readbytes at process.jl:515",
      " in readall at process.jl:520",
      " in SeisRead at /home/gram/.julia/v0.4/Seismic/src/Utils/SeisRead.jl:33",
      " in ShotProfileWEM at /home/gram/.julia/v0.4/Seismic/src/Imaging/ShotProfileWEM.jl:42"
     ]
    }
   ],
   "source": [
    "# forward model shot gathers with finite difference\n",
    "param = Dict(\"adj\"=>\"n\",\n",
    "        \"vel\"=>\"../vel/vel_1\", \"wav\"=>\"../mod/wav\",\n",
    "        \"pade_flag\"=>\"n\",\n",
    "        \"sz\"=>0, \"gz\"=>0,\n",
    "        \"fmin\"=>0., \"fmax\"=>50.,\n",
    "        \"padt\"=>2, \"padx\"=>2,\n",
    "        \"verbose\"=>\"y\");\n",
    "param[\"sx\"] = [30.0:10.0:30.0];\n",
    "param[\"sy\"] = [30.0:10.0:30.0];\n",
    "\n",
    "ShotProfileWEM(\"../mod/image\",\"shots1\",param);"
   ]
  },
  {
   "cell_type": "code",
   "execution_count": null,
   "metadata": {
    "collapsed": true
   },
   "outputs": [],
   "source": []
  }
 ],
 "metadata": {
  "kernelspec": {
   "display_name": "Julia 0.4.5",
   "language": "julia",
   "name": "julia-0.4"
  },
  "language_info": {
   "file_extension": ".jl",
   "mimetype": "application/julia",
   "name": "julia",
   "version": "0.4.5"
  }
 },
 "nbformat": 4,
 "nbformat_minor": 0
}
