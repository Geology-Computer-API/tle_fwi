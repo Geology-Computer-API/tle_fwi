{
 "cells": [
  {
   "cell_type": "code",
   "execution_count": 1,
   "metadata": {
    "collapsed": false
   },
   "outputs": [],
   "source": [
    "using Seismic, PyPlot"
   ]
  },
  {
   "cell_type": "code",
   "execution_count": 43,
   "metadata": {
    "collapsed": false
   },
   "outputs": [],
   "source": [
    "d,h = SeisRead(\"../vel/vel_1\");"
   ]
  },
  {
   "cell_type": "code",
   "execution_count": 44,
   "metadata": {
    "collapsed": false
   },
   "outputs": [
    {
     "name": "stdout",
     "output_type": "stream",
     "text": [
      "Displaying information for ../vel/vel_1 (6 traces):\n",
      "       Key          Minimum          Maximum             Mean\n",
      "=============================================================\n",
      "  tracenum            1.000            6.000            3.500\n",
      "        o1            0.000            0.000            0.000\n",
      "        n1           10.000           10.000           10.000\n",
      "        d1           10.000           10.000           10.000\n",
      "        sx            0.000            0.000            0.000\n",
      "        sy            0.000            0.000            0.000\n",
      "        gx            0.000            0.000            0.000\n",
      "        gy            0.000            0.000            0.000\n",
      "        mx            1.000            3.000            2.000\n",
      "        my            1.000            2.000            1.500\n",
      "        hx            0.000            0.000            0.000\n",
      "        hy            0.000            0.000            0.000\n",
      "         h            0.000            0.000            0.000\n",
      "        az            0.000            0.000            0.000\n",
      "       ang            0.000            0.000            0.000\n",
      "       isx            0.000            0.000            0.000\n",
      "       isy            0.000            0.000            0.000\n",
      "       igx            0.000            0.000            0.000\n",
      "       igy            0.000            0.000            0.000\n",
      "       imx            0.000            0.000            0.000\n",
      "       imy            0.000            0.000            0.000\n",
      "       ihx            0.000            0.000            0.000\n",
      "       ihy            0.000            0.000            0.000\n",
      "        ih            0.000            0.000            0.000\n",
      "       iaz            0.000            0.000            0.000\n",
      "      iang            0.000            0.000            0.000\n",
      "     selev            0.000            0.000            0.000\n",
      "     gelev            0.000            0.000            0.000\n",
      "     sstat            0.000            0.000            0.000\n",
      "     gstat            0.000            0.000            0.000\n",
      "      trid            0.000            0.000            0.000\n"
     ]
    }
   ],
   "source": [
    "SeisHeaderInfo(\"../vel/vel_1\")"
   ]
  },
  {
   "cell_type": "code",
   "execution_count": 50,
   "metadata": {
    "collapsed": false
   },
   "outputs": [
    {
     "data": {
      "image/png": "[encoded data removed]",
      "text/plain": [
       "PyPlot.Figure(PyObject <matplotlib.figure.Figure object at 0x7fd8de73a490>)"
      ]
     },
     "metadata": {},
     "output_type": "display_data"
    },
    {
     "data": {
      "text/plain": [
       "PyObject <matplotlib.image.AxesImage object at 0x7fd8de669c10>"
      ]
     },
     "execution_count": 50,
     "metadata": {},
     "output_type": "execute_result"
    }
   ],
   "source": [
    "SeisPlot(d[:,:,1])"
   ]
  },
  {
   "cell_type": "code",
   "execution_count": 55,
   "metadata": {
    "collapsed": false
   },
   "outputs": [
    {
     "data": {
      "text/plain": [
       "10x1x2 Array{Float32,3}:\n",
       "[:, :, 1] =\n",
       " 1.0\n",
       " 1.0\n",
       " 1.0\n",
       " 1.0\n",
       " 2.0\n",
       " 2.0\n",
       " 2.0\n",
       " 2.0\n",
       " 2.0\n",
       " 2.0\n",
       "\n",
       "[:, :, 2] =\n",
       " 1.0\n",
       " 1.0\n",
       " 1.0\n",
       " 1.0\n",
       " 2.0\n",
       " 2.0\n",
       " 2.0\n",
       " 2.0\n",
       " 2.0\n",
       " 2.0"
      ]
     },
     "execution_count": 55,
     "metadata": {},
     "output_type": "execute_result"
    }
   ],
   "source": [
    "d[:,1,:]"
   ]
  },
  {
   "cell_type": "code",
   "execution_count": null,
   "metadata": {
    "collapsed": true
   },
   "outputs": [],
   "source": []
  }
 ],
 "metadata": {
  "kernelspec": {
   "display_name": "Julia 0.4.5",
   "language": "julia",
   "name": "julia-0.4"
  },
  "language_info": {
   "file_extension": ".jl",
   "mimetype": "application/julia",
   "name": "julia",
   "version": "0.4.5"
  }
 },
 "nbformat": 4,
 "nbformat_minor": 0
}
