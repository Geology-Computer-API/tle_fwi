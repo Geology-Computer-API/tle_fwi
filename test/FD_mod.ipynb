{
 "cells": [
  {
   "cell_type": "code",
   "execution_count": 1,
   "metadata": {
    "collapsed": true
   },
   "outputs": [],
   "source": [
    "using Seismic, PyPlot"
   ]
  },
  {
   "cell_type": "code",
   "execution_count": null,
   "metadata": {
    "collapsed": true
   },
   "outputs": [],
   "source": [
    "# read in data\n",
    "vel, vel_h = SeisRead(\"../vel/vel_1\")"
   ]
  },
  {
   "cell_type": "code",
   "execution_count": null,
   "metadata": {
    "collapsed": true
   },
   "outputs": [],
   "source": [
    "# compute reflector normals \n",
    "coh,pp,res = SeisPWD(vp_raw,[\"w1\"=>30,\"w2\"=>30,\"dx\"=>8,\"dz\"=>4]); # update params, also v0.4 syntax\n",
    "SeisWrite(\"dipx\",pp,h); \n",
    "SeisWrite(\"dipy\",pp*0,h); # add y dip angles"
   ]
  },
  {
   "cell_type": "code",
   "execution_count": null,
   "metadata": {
    "collapsed": true
   },
   "outputs": [],
   "source": [
    "# compute angles wrt reflector normal\n",
    "param = [\"vel\"=>\"vp\", \"wav\"=>\"wav\", # update params, also v0.4 syntax\n",
    "    \"dip_flag\"=>\"y\",\"dipx\"=>\"dipx\",\"dipy\"=>\"dipy\",\n",
    "    \"sz\"=>10,\"fmin\"=>20., \"fmax\"=>30.,\n",
    "    \"nhx\"=>827, \"ohx\"=>-3304, \"dhx\"=>8,\n",
    "    \"nhy\"=>1, \"ohy\"=>0, \"dhy\"=>8,\n",
    "    \"omp\"=>8,\"verbose\"=>\"y\"];\n",
    "param[\"sx\"] = [5100.0:100.0:5100.0]; # update params\n",
    "param[\"sy\"] = [5100.0:100.0:5100.0]*0; # update params\n",
    "ComputeAngles(\"angx\",\"angy\",param);"
   ]
  },
  {
   "cell_type": "code",
   "execution_count": null,
   "metadata": {
    "collapsed": true
   },
   "outputs": [],
   "source": [
    "# build the same wavelet used in the initial image\n",
    "peak = 80;\n",
    "samp = .001;\n",
    "w = ricker(peak, samp) #update params\n",
    "h_w = Array(Header,1);\n",
    "h_w[1] = Seismic.InitSeisHeader();h_w[1].tracenum = 1;\n",
    "h_w[1].n1 = size(w)[1];\n",
    "h_w[1].d1 = samp;\n",
    "SeisWrite(\"wav\",w[:],h_w);"
   ]
  },
  {
   "cell_type": "code",
   "execution_count": null,
   "metadata": {
    "collapsed": true
   },
   "outputs": [],
   "source": [
    "ShotProfileWEM(\"../mod/image\", \"synth_1\", adj=false; vel=\"../vel/vel_1\", angx=\"angx\", angy=\"angy\", wav=\"wav\",\n",
    "                nangx=1, oangx=0, dangx=1, nangy=1, oangy=0, dangy=1, fmin=0, fmax=80, verbose=true,\n",
    "                sx=[0],\n",
    "                sy=[0])"
   ]
  }
 ],
 "metadata": {
  "kernelspec": {
   "display_name": "Julia 0.4.5",
   "language": "julia",
   "name": "julia-0.4"
  },
  "language_info": {
   "file_extension": ".jl",
   "mimetype": "application/julia",
   "name": "julia",
   "version": "0.4.5"
  }
 },
 "nbformat": 4,
 "nbformat_minor": 0
}
