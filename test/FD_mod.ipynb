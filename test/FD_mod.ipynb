{
 "cells": [
  {
   "cell_type": "code",
   "execution_count": 1,
   "metadata": {
    "collapsed": false
   },
   "outputs": [
    {
     "name": "stderr",
     "output_type": "stream",
     "text": [
      "INFO: Precompiling module Docile...\n",
      "INFO: Precompiling module Grid...\n",
      "INFO: Precompiling module Requires...\n",
      "INFO: Precompiling module PyPlot...\n"
     ]
    }
   ],
   "source": [
    "using Seismic, PyPlot"
   ]
  },
  {
   "cell_type": "code",
   "execution_count": 2,
   "metadata": {
    "collapsed": false
   },
   "outputs": [
    {
     "ename": "LoadError",
     "evalue": "LoadError: error compiling anonymous: error compiling shotwem: could not load library \"shotwem\"\nshotwem: cannot open shared object file: No such file or directory\n in anonymous at multi.jl:1369\n in run_work_thunk at multi.jl:661\n in run_work_thunk at multi.jl:670\n in anonymous at task.jl:58\nwhile loading In[2], in expression starting on line 2",
     "output_type": "error",
     "traceback": [
      "LoadError: error compiling anonymous: error compiling shotwem: could not load library \"shotwem\"\nshotwem: cannot open shared object file: No such file or directory\n in anonymous at multi.jl:1369\n in run_work_thunk at multi.jl:661\n in run_work_thunk at multi.jl:670\n in anonymous at task.jl:58\nwhile loading In[2], in expression starting on line 2",
      ""
     ]
    }
   ],
   "source": [
    "# forward model shots using finite difference\n",
    "ShotProfileWEM(\"../mod/image\", \"shots1\", false;\n",
    "                # pspi = true, nref = 5, damping = 1000.,\n",
    "                vel = \"../vel/vel_1\", wav = \"../mod/wav\",\n",
    "                sz = 0, gz = 0, fmin = 1., fmax = 30.,\n",
    "                padt = 2, padx = 2, verbose = \"y\",\n",
    "                sx = [15.0],\n",
    "                sy = [15.0])"
   ]
  },
  {
   "cell_type": "code",
   "execution_count": 3,
   "metadata": {
    "collapsed": false
   },
   "outputs": [
    {
     "ename": "LoadError",
     "evalue": "LoadError: SystemError: opening file /var/tmp/image_shot_15_15@data@: No such file or directory\nwhile loading In[3], in expression starting on line 1",
     "output_type": "error",
     "traceback": [
      "LoadError: SystemError: opening file /var/tmp/image_shot_15_15@data@: No such file or directory\nwhile loading In[3], in expression starting on line 1",
      "",
      " in open at ./iostream.jl:90",
      " in open at iostream.jl:99",
      " in SeisRead at /home/gram/.julia/v0.4/Seismic/src/Utils/SeisRead.jl:36"
     ]
    }
   ],
   "source": [
    "d, h = SeisRead(\"image_shot_15_15\")"
   ]
  },
  {
   "cell_type": "code",
   "execution_count": 4,
   "metadata": {
    "collapsed": false
   },
   "outputs": [
    {
     "ename": "LoadError",
     "evalue": "LoadError: UndefVarError: d not defined\nwhile loading In[4], in expression starting on line 1",
     "output_type": "error",
     "traceback": [
      "LoadError: UndefVarError: d not defined\nwhile loading In[4], in expression starting on line 1",
      ""
     ]
    }
   ],
   "source": [
    "plot(d)"
   ]
  },
  {
   "cell_type": "code",
   "execution_count": null,
   "metadata": {
    "collapsed": true
   },
   "outputs": [],
   "source": []
  }
 ],
 "metadata": {
  "kernelspec": {
   "display_name": "Julia 0.4.5",
   "language": "julia",
   "name": "julia-0.4"
  },
  "language_info": {
   "file_extension": ".jl",
   "mimetype": "application/julia",
   "name": "julia",
   "version": "0.4.5"
  }
 },
 "nbformat": 4,
 "nbformat_minor": 0
}
