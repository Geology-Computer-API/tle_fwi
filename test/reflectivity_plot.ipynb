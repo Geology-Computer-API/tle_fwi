{
 "cells": [
  {
   "cell_type": "code",
   "execution_count": 1,
   "metadata": {
    "collapsed": false
   },
   "outputs": [],
   "source": [
    "using Seismic, PyPlot"
   ]
  },
  {
   "cell_type": "code",
   "execution_count": 16,
   "metadata": {
    "collapsed": false
   },
   "outputs": [
    {
     "data": {
      "image/png": "[encoded data removed]",
      "text/plain": [
       "PyPlot.Figure(PyObject <matplotlib.figure.Figure object at 0x7fea01165c90>)"
      ]
     },
     "metadata": {},
     "output_type": "display_data"
    },
    {
     "data": {
      "text/plain": [
       "PyObject <matplotlib.image.AxesImage object at 0x7fea010e0c50>"
      ]
     },
     "execution_count": 16,
     "metadata": {},
     "output_type": "execute_result"
    }
   ],
   "source": [
    "d,h = SeisRead(\"../dat/refl\");\n",
    "SeisPlot(d[:,:,1])"
   ]
  },
  {
   "cell_type": "code",
   "execution_count": 20,
   "metadata": {
    "collapsed": true
   },
   "outputs": [
    {
     "name": "stdout",
     "output_type": "stream",
     "text": [
      "Float32[0.0 0.0 0.0 0.0 0.0\n",
      "        0.0 0.0 0.0 0.0 0.0\n",
      "        0.0 0.0 0.0 0.0 0.0\n",
      "        0.0 0.0 0.0 0.0 0.0\n",
      "        0.0 0.0 0.0 0.0 0.0\n",
      "        0.0 0.0 0.0 0.0 0.0\n",
      "        0.0 0.0 0.0 0.0 0.0\n",
      "        0.0 0.0 0.0 0.0 0.0\n",
      "        0.0 0.0 0.0 0.0 0.0\n",
      "        0.0 0.0 0.0 0.0 0.0\n",
      "        0.0 0.0 0.0 0.0 0.0\n",
      "        0.0 0.0 0.0 0.0 0.0\n",
      "        0.0 0.0 0.0 0.0 0.0\n",
      "        0.0 0.0 0.0 0.0 0.0\n",
      "        0.0 0.0 0.0 0.0 0.0\n",
      "        0.0 0.0 0.0 0.0 0.0\n",
      "        0.0 0.0 0.0 0.0 0.0\n",
      "        0.0 0.0 0.0 0.0 0.0\n",
      "        0.0 0.0 0.0 0.0 0.0\n",
      "        0.0 0.0 0.0 0.0 0.0\n",
      "        0.0 0.0 0.0 0.0 0.0\n",
      "        0.0 0.0 0.0 0.0 0.0\n",
      "        0.0 0.0 0.0 0.0 0.0\n",
      "        0.0 0.0 0.0 0.0 0.0\n",
      "        0.0 0.0 0.0 0.0 0.0\n",
      "        0.0 0.0 0.0 0.0 0.0\n",
      "        0.0 0.0 0.0 0.0 0.0\n",
      "        0.0 0.0 0.0 0.0 0.0\n",
      "        0.0 0.0 0.0 0.0 0.0\n",
      "        0.0 0.0 0.0 0.0 0.0\n",
      "        0.0 0.0 0.0 0.0 0.0\n",
      "        0.0 0.0 0.0 0.0 0.0\n",
      "        0.0 0.0 0.0 0.0 0.0\n",
      "        0.0 0.0 0.0 0.0 0.0\n",
      "        0.0 0.0 0.0 0.0 0.0\n",
      "        0.0 0.0 0.0 0.0 0.0\n",
      "        0.0 0.0 0.0 0.0 0.0\n",
      "        0.0 0.0 0.0 0.0 0.0\n",
      "        0.0 0.0 0.0 0.0 0.0\n",
      "        0.0 0.0 0.0 0.0 0.0\n",
      "        0.0 0.0 0.0 0.0 0.0\n",
      "        0.0 0.0 0.0 0.0 0.0\n",
      "        0.0 0.0 0.0 0.0 0.0\n",
      "        0.0 0.0 0.0 0.0 0.0\n",
      "        0.0 0.0 0.0 0.0 0.0\n",
      "        0.0 0.0 0.0 0.0 0.0\n",
      "        0.0 0.0 0.0 0.0 0.0\n",
      "        0.0 0.0 0.0 0.0 0.0\n",
      "        0.0 0.0 0.0 0.0 0.0\n",
      "        0.0 0.0 0.0 0.0 0.0\n",
      "        0.0 0.0 0.0 0.0 0.0\n",
      "        0.0 0.0 0.0 0.0 0.0\n",
      "        0.0 0.0 0.0 0.0 0.0\n",
      "        0.0 0.0 0.0 0.0 0.0\n",
      "        0.0 0.0 0.0 0.0 0.0\n",
      "        0.0 0.0 0.0 0.0 0.0\n",
      "        0.0 0.0 0.0 0.0 0.0\n",
      "        0.0 0.0 0.0 0.0 0.0\n",
      "        0.0 0.0 0.0 0.0 0.0\n",
      "        0.0 0.0 0.0 0.0 0.0\n",
      "        0.0 0.0 0.0 0.0 0.0\n",
      "        0.0 0.0 0.0 0.0 0.0\n",
      "        0.0 0.0 0.0 0.0 0.0\n",
      "        0.0 0.0 0.0 0.0 0.0\n",
      "        0.0 0.0 0.0 0.0 0.0\n",
      "        0.040000003 0.040000003 0.040000003 0.040000003 0.040000003\n",
      "        0.0 0.0 0.0 0.0 0.0\n",
      "        0.0 0.0 0.0 0.0 0.0\n",
      "        0.0 0.0 0.0 0.0 0.0\n",
      "        0.0 0.0 0.0 0.0 0.0\n",
      "        0.0 0.0 0.0 0.0 0.0\n",
      "        0.0 0.0 0.0 0.0 0.0\n",
      "        0.0 0.0 0.0 0.0 0.0\n",
      "        0.0 0.0 0.0 0.0 0.0\n",
      "        0.0 0.0 0.0 0.0 0.0\n",
      "        0.0 0.0 0.0 0.0 0.0\n",
      "        0.0 0.0 0.0 0.0 0.0\n",
      "        0.0 0.0 0.0 0.0 0.0\n",
      "        0.0 0.0 0.0 0.0 0.0\n",
      "        0.0 0.0 0.0 0.0 0.0\n",
      "        0.0 0.0 0.0 0.0 0.0\n",
      "        0.0 0.0 0.0 0.0 0.0\n",
      "        0.0 0.0 0.0 0.0 0.0\n",
      "        0.0 0.0 0.0 0.0 0.0\n",
      "        0.0 0.0 0.0 0.0 0.0\n",
      "        0.0 0.0 0.0 0.0 0.0\n",
      "        0.0 0.0 0.0 0.0 0.0\n",
      "        0.0 0.0 0.0 0.0 0.0\n",
      "        0.0 0.0 0.0 0.0 0.0\n",
      "        0.0 0.0 0.0 0.0 0.0\n",
      "        0.0 0.0 0.0 0.0 0.0\n",
      "        0.0 0.0 0.0 0.0 0.0\n",
      "        0.0 0.0 0.0 0.0 0.0\n",
      "        0.0 0.0 0.0 0.0 0.0\n",
      "        0.0 0.0 0.0 0.0 0.0\n",
      "        0.0 0.0 0.0 0.0 0.0\n",
      "        0.0 0.0 0.0 0.0 0.0\n",
      "        0.0 0.0 0.0 0.0 0.0\n",
      "        0.0 0.0 0.0 0.0 0.0\n",
      "        0.0 0.0 0.0 0.0 0.0\n",
      "        0.0 0.0 0.0 0.0 0.0\n",
      "        0.0 0.0 0.0 0.0 0.0\n",
      "        0.0 0.0 0.0 0.0 0.0\n",
      "        0.0 0.0 0.0 0.0 0.0\n",
      "        0.0 0.0 0.0 0.0 0.0\n",
      "        0.0 0.0 0.0 0.0 0.0\n",
      "        0.0 0.0 0.0 0.0 0.0\n",
      "        0.0 0.0 0.0 0.0 0.0\n",
      "        0.0 0.0 0.0 0.0 0.0\n",
      "        0.0 0.0 0.0 0.0 0.0\n",
      "        0.0 0.0 0.0 0.0 0.0\n",
      "        0.0 0.0 0.0 0.0 0.0\n",
      "        0.0 0.0 0.0 0.0 0.0\n",
      "        0.0 0.0 0.0 0.0 0.0\n",
      "        0.0 0.0 0.0 0.0 0.0\n",
      "        0.0 0.0 0.0 0.0 0.0\n",
      "        0.0 0.0 0.0 0.0 0.0\n",
      "        0.0 0.0 0.0 0.0 0.0\n",
      "        0.0 0.0 0.0 0.0 0.0\n",
      "        0.0 0.0 0.0 0.0 0.0\n",
      "        0.0 0.0 0.0 0.0 0.0\n",
      "        0.0 0.0 0.0 0.0 0.0\n",
      "        0.0 0.0 0.0 0.0 0.0\n",
      "        0.0 0.0 0.0 0.0 0.0\n",
      "        0.0 0.0 0.0 0.0 0.0\n",
      "        0.0 0.0 0.0 0.0 0.0\n",
      "        0.0 0.0 0.0 0.0 0.0\n",
      "        0.0 0.0 0.0 0.0 0.0\n",
      "        0.0 0.0 0.0 0.0 0.0\n",
      "        0.0 0.0 0.0 0.0 0.0\n",
      "        0.0 0.0 0.0 0.0 0.0\n",
      "        0.0 0.0 0.0 0.0 0.0\n",
      "        0.020408165 0.020408165 0.020408165 0.020408165 0.020408165\n",
      "        0.0 0.0 0.0 0.0 0.0\n",
      "        0.0 0.0 0.0 0.0 0.0\n",
      "        0.0 0.0 0.0 0.0 0.0\n",
      "        0.0 0.0 0.0 0.0 0.0\n",
      "        0.0 0.0 0.0 0.0 0.0\n",
      "        0.0 0.0 0.0 0.0 0.0\n",
      "        0.0 0.0 0.0 0.0 0.0\n",
      "        0.0 0.0 0.0 0.0 0.0\n",
      "        0.0 0.0 0.0 0.0 0.0\n",
      "        0.0 0.0 0.0 0.0 0.0\n",
      "        0.0 0.0 0.0 0.0 0.0\n",
      "        0.0 0.0 0.0 0.0 0.0\n",
      "        0.0 0.0 0.0 0.0 0.0\n",
      "        0.0 0.0 0.0 0.0 0.0\n",
      "        0.0 0.0 0.0 0.0 0.0\n",
      "        0.0 0.0 0.0 0.0 0.0\n",
      "        0.0 0.0 0.0 0.0 0.0\n",
      "        0.0 0.0 0.0 0.0 0.0\n",
      "        0.0 0.0 0.0 0.0 0.0\n",
      "        0.0 0.0 0.0 0.0 0.0\n",
      "        0.0 0.0 0.0 0.0 0.0\n",
      "        0.0 0.0 0.0 0.0 0.0\n",
      "        0.0 0.0 0.0 0.0 0.0\n",
      "        0.0 0.0 0.0 0.0 0.0\n",
      "        0.0 0.0 0.0 0.0 0.0\n",
      "        0.0 0.0 0.0 0.0 0.0\n",
      "        0.0 0.0 0.0 0.0 0.0\n",
      "        0.0 0.0 0.0 0.0 0.0\n",
      "        0.0 0.0 0.0 0.0 0.0\n",
      "        0.0 0.0 0.0 0.0 0.0\n",
      "        0.0 0.0 0.0 0.0 0.0\n",
      "        0.0 0.0 0.0 0.0 0.0\n",
      "        0.0 0.0 0.0 0.0 0.0\n",
      "        0.0 0.0 0.0 0.0 0.0\n",
      "        0.0 0.0 0.0 0.0 0.0\n",
      "        0.0 0.0 0.0 0.0 0.0\n",
      "        0.0 0.0 0.0 0.0 0.0\n",
      "        0.0 0.0 0.0 0.0 0.0\n",
      "        0.0 0.0 0.0 0.0 0.0\n",
      "        0.0 0.0 0.0 0.0 0.0\n",
      "        0.0 0.0 0.0 0.0 0.0\n",
      "        0.0 0.0 0.0 0.0 0.0\n",
      "        0.0 0.0 0.0 0.0 0.0\n",
      "        0.0 0.0 0.0 0.0 0.0\n",
      "        0.0 0.0 0.0 0.0 0.0\n",
      "        0.0 0.0 0.0 0.0 0.0\n",
      "        0.0 0.0 0.0 0.0 0.0\n",
      "        0.0 0.0 0.0 0.0 0.0\n",
      "        0.0 0.0 0.0 0.0 0.0\n",
      "        0.0 0.0 0.0 0.0 0.0\n",
      "        0.0 0.0 0.0 0.0 0.0\n",
      "        0.0 0.0 0.0 0.0 0.0\n",
      "        0.0 0.0 0.0 0.0 0.0\n",
      "        0.0 0.0 0.0 0.0 0.0\n",
      "        0.0 0.0 0.0 0.0 0.0\n",
      "        0.0 0.0 0.0 0.0 0.0\n",
      "        0.0 0.0 0.0 0.0 0.0\n",
      "        0.0 0.0 0.0 0.0 0.0\n",
      "        0.0 0.0 0.0 0.0 0.0\n",
      "        0.0 0.0 0.0 0.0 0.0\n",
      "        0.0 0.0 0.0 0.0 0.0\n",
      "        0.0 0.0 0.0 0.0 0.0\n",
      "        0.0 0.0 0.0 0.0 0.0\n",
      "        0.0 0.0 0.0 0.0 0.0\n",
      "        0.0 0.0 0.0 0.0 0.0\n",
      "        0.0 0.0 0.0 0.0 0.0\n",
      "        0.0 0.0 0.0 0.0 0.0]"
     ]
    }
   ],
   "source": [
    "print(d[:,:,1])"
   ]
  },
  {
   "cell_type": "code",
   "execution_count": 22,
   "metadata": {
    "collapsed": false,
    "scrolled": false
   },
   "outputs": [
    {
     "data": {
      "image/png": "[encoded data removed]",
      "text/plain": [
       "PyPlot.Figure(PyObject <matplotlib.figure.Figure object at 0x7fea01041410>)"
      ]
     },
     "metadata": {},
     "output_type": "display_data"
    },
    {
     "data": {
      "text/plain": [
       "PyObject <matplotlib.colorbar.Colorbar object at 0x7fea00f4a7d0>"
      ]
     },
     "execution_count": 22,
     "metadata": {},
     "output_type": "execute_result"
    }
   ],
   "source": [
    "d,h = SeisRead(\"../dat/image\");\n",
    "\n",
    "SeisPlot(d[:,:,1],cmap=\"seismic\")\n",
    "PyPlot.colorbar(orientation=\"vertical\")"
   ]
  },
  {
   "cell_type": "code",
   "execution_count": null,
   "metadata": {
    "collapsed": true
   },
   "outputs": [],
   "source": []
  }
 ],
 "metadata": {
  "kernelspec": {
   "display_name": "Julia 0.4.5",
   "language": "julia",
   "name": "julia-0.4"
  },
  "language_info": {
   "file_extension": ".jl",
   "mimetype": "application/julia",
   "name": "julia",
   "version": "0.4.5"
  }
 },
 "nbformat": 4,
 "nbformat_minor": 0
}
