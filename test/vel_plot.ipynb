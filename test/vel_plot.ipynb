{
 "cells": [
  {
   "cell_type": "code",
   "execution_count": 8,
   "metadata": {
    "collapsed": false
   },
   "outputs": [],
   "source": [
    "using Seismic, PyPlot"
   ]
  },
  {
   "cell_type": "code",
   "execution_count": 12,
   "metadata": {
    "collapsed": false
   },
   "outputs": [],
   "source": [
    "d1,h1 = SeisRead(\"../vel/vel_1\");"
   ]
  },
  {
   "cell_type": "code",
   "execution_count": 13,
   "metadata": {
    "collapsed": false
   },
   "outputs": [
    {
     "name": "stdout",
     "output_type": "stream",
     "text": [
      "Displaying information for ../vel/vel_1 (900 traces):\n",
      "       Key          Minimum          Maximum             Mean\n",
      "=============================================================\n",
      "  tracenum            1.000          900.000          450.500\n",
      "        o1            0.000            0.000            0.000\n",
      "        n1          100.000          100.000          100.000\n",
      "        d1           10.000           10.000           10.000\n",
      "        sx            0.000            0.000            0.000\n",
      "        sy            0.000            0.000            0.000\n",
      "        gx            0.000            0.000            0.000\n",
      "        gy            0.000            0.000            0.000\n",
      "        mx            1.000           30.000           15.500\n",
      "        my            1.000           30.000           15.500\n",
      "        hx            0.000            0.000            0.000\n",
      "        hy            0.000            0.000            0.000\n",
      "         h            0.000            0.000            0.000\n",
      "        az            0.000            0.000            0.000\n",
      "       ang            0.000            0.000            0.000\n",
      "       isx            0.000            0.000            0.000\n",
      "       isy            0.000            0.000            0.000\n",
      "       igx            0.000            0.000            0.000\n",
      "       igy            0.000            0.000            0.000\n",
      "       imx            0.000            0.000            0.000\n",
      "       imy            0.000            0.000            0.000\n",
      "       ihx            0.000            0.000            0.000\n",
      "       ihy            0.000            0.000            0.000\n",
      "        ih            0.000            0.000            0.000\n",
      "       iaz            0.000            0.000            0.000\n",
      "      iang            0.000            0.000            0.000\n",
      "     selev            0.000            0.000            0.000\n",
      "     gelev            0.000            0.000            0.000\n",
      "     sstat            0.000            0.000            0.000\n",
      "     gstat            0.000            0.000            0.000\n",
      "      trid            0.000            0.000            0.000\n"
     ]
    }
   ],
   "source": [
    "SeisHeaderInfo(\"../vel/vel_1\");"
   ]
  },
  {
   "cell_type": "code",
   "execution_count": 14,
   "metadata": {
    "collapsed": false
   },
   "outputs": [
    {
     "ename": "LoadError",
     "evalue": "LoadError: UndefVarError: SeisPlot not defined\nwhile loading In[14], in expression starting on line 1",
     "output_type": "error",
     "traceback": [
      "LoadError: UndefVarError: SeisPlot not defined\nwhile loading In[14], in expression starting on line 1",
      ""
     ]
    }
   ],
   "source": [
    "SeisPlot(d1[:,:,1])"
   ]
  },
  {
   "cell_type": "code",
   "execution_count": 17,
   "metadata": {
    "collapsed": false
   },
   "outputs": [
    {
     "ename": "LoadError",
     "evalue": "LoadError: UndefVarError: SeisPlot not defined\nwhile loading In[17], in expression starting on line 2",
     "output_type": "error",
     "traceback": [
      "LoadError: UndefVarError: SeisPlot not defined\nwhile loading In[17], in expression starting on line 2",
      ""
     ]
    }
   ],
   "source": [
    "d2,h2 = SeisRead(\"../vel/vel_2\");\n",
    "SeisPlot(d2[:,:,1])"
   ]
  },
  {
   "cell_type": "code",
   "execution_count": null,
   "metadata": {
    "collapsed": true
   },
   "outputs": [],
   "source": []
  }
 ],
 "metadata": {
  "kernelspec": {
   "display_name": "Julia 0.4.5",
   "language": "julia",
   "name": "julia-0.4"
  },
  "language_info": {
   "file_extension": ".jl",
   "mimetype": "application/julia",
   "name": "julia",
   "version": "0.4.5"
  }
 },
 "nbformat": 4,
 "nbformat_minor": 0
}
